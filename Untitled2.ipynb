{
 "cells": [
  {
   "cell_type": "code",
   "execution_count": 18,
   "metadata": {},
   "outputs": [
    {
     "name": "stdout",
     "output_type": "stream",
     "text": [
      "1 23 Alpha 2018\n",
      "2 24 Beta 2019\n",
      "3 25 Gamma 2017\n"
     ]
    },
    {
     "ename": "TypeError",
     "evalue": "add() missing 4 required positional arguments: 'id', 'rno', 'name', and 'year'",
     "output_type": "error",
     "traceback": [
      "\u001b[1;31m---------------------------------------------------------------------------\u001b[0m",
      "\u001b[1;31mTypeError\u001b[0m                                 Traceback (most recent call last)",
      "\u001b[1;32m<ipython-input-18-df04535354ca>\u001b[0m in \u001b[0;36m<module>\u001b[1;34m\u001b[0m\n\u001b[0;32m     22\u001b[0m \u001b[0ms2\u001b[0m\u001b[1;33m.\u001b[0m\u001b[0mdisplay\u001b[0m\u001b[1;33m(\u001b[0m\u001b[1;33m)\u001b[0m\u001b[1;33m\u001b[0m\u001b[1;33m\u001b[0m\u001b[0m\n\u001b[0;32m     23\u001b[0m \u001b[0ms3\u001b[0m\u001b[1;33m.\u001b[0m\u001b[0mdisplay\u001b[0m\u001b[1;33m(\u001b[0m\u001b[1;33m)\u001b[0m\u001b[1;33m\u001b[0m\u001b[1;33m\u001b[0m\u001b[0m\n\u001b[1;32m---> 24\u001b[1;33m \u001b[0ms3\u001b[0m\u001b[1;33m.\u001b[0m\u001b[0madd\u001b[0m\u001b[1;33m(\u001b[0m\u001b[1;33m)\u001b[0m\u001b[1;33m\u001b[0m\u001b[1;33m\u001b[0m\u001b[0m\n\u001b[0m",
      "\u001b[1;31mTypeError\u001b[0m: add() missing 4 required positional arguments: 'id', 'rno', 'name', and 'year'"
     ]
    }
   ],
   "source": [
    "class Student:\n",
    "    def __init__(self, id, rno, name, year):\n",
    "        self.id = id\n",
    "        self.rno = rno\n",
    "        self.name = name\n",
    "        self.year = year\n",
    "        \n",
    "    def display(self):\n",
    "        print(self.id, self.rno, self.name, self.year)\n",
    "        \n",
    "    def add(self, id, rno, name, year):\n",
    "        id = int(input(\"Enter the ID: \"))\n",
    "        rno = int(input(\"Enter the roll no: \"))\n",
    "        name = input(\"Enter the name: \")\n",
    "        year = int(input(\"Enter the year: \"))\n",
    "        \n",
    "        \n",
    "s1 = Student(1, 23, \"Alpha\", 2018)\n",
    "s2 = Student(2, 24, \"Beta\", 2019)\n",
    "s3 = Student(3, 25, \"Gamma\", 2017)\n",
    "s1.display()\n",
    "s2.display()\n",
    "s3.display()\n",
    "s3.add()"
   ]
  },
  {
   "cell_type": "code",
   "execution_count": 22,
   "metadata": {},
   "outputs": [
    {
     "name": "stdout",
     "output_type": "stream",
     "text": [
      "7.23\n"
     ]
    }
   ],
   "source": []
  },
  {
   "cell_type": "code",
   "execution_count": null,
   "metadata": {},
   "outputs": [],
   "source": []
  }
 ],
 "metadata": {
  "kernelspec": {
   "display_name": "Python 3",
   "language": "python",
   "name": "python3"
  },
  "language_info": {
   "codemirror_mode": {
    "name": "ipython",
    "version": 3
   },
   "file_extension": ".py",
   "mimetype": "text/x-python",
   "name": "python",
   "nbconvert_exporter": "python",
   "pygments_lexer": "ipython3",
   "version": "3.7.3"
  }
 },
 "nbformat": 4,
 "nbformat_minor": 2
}
