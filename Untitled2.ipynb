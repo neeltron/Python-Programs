{
 "cells": [
  {
   "cell_type": "code",
   "execution_count": 35,
   "metadata": {},
   "outputs": [
    {
     "name": "stdout",
     "output_type": "stream",
     "text": [
      "1 23 Alpha 2018\n",
      "2 24 Beta 2019\n",
      "3 25 Gamma 2017\n",
      "1\n",
      "2\n",
      "3\n",
      "4\n"
     ]
    }
   ],
   "source": [
    "class Student:\n",
    "    def __init__(self, id, rno, name, marks):\n",
    "        self.id = id\n",
    "        self.rno = rno\n",
    "        self.name = name\n",
    "        self.marks = marks\n",
    "        \n",
    "    def display(self):\n",
    "        print(self.id, self.rno, self.name, self.marks)\n",
    "        \n",
    "    def change(self, newmarks):\n",
    "        self.marks = newmarks\n",
    "        \n",
    "    def percentage(self):\n",
    "        self.per = (self.marks/3000)*100\n",
    "        print(self.per)\n",
    "        \n",
    "        \n",
    "s1 = Student(1, 23, \"Alpha\", 2018)\n",
    "s2 = Student(2, 24, \"Beta\", 2019)\n",
    "s3 = Student(3, 25, \"Gamma\", 2017)\n",
    "s1.display()\n",
    "s2.display()\n",
    "s3.display()\n",
    "id = int(input())\n",
    "rno = int(input())\n",
    "name = input()\n",
    "marks = int(input())\n",
    "s4 = Student(id,rno,name,marks)"
   ]
  },
  {
   "cell_type": "code",
   "execution_count": 31,
   "metadata": {},
   "outputs": [
    {
     "name": "stdout",
     "output_type": "stream",
     "text": [
      "1 2 3 4\n"
     ]
    }
   ],
   "source": [
    "s4.display()"
   ]
  },
  {
   "cell_type": "code",
   "execution_count": 32,
   "metadata": {},
   "outputs": [],
   "source": [
    "s4.change(24)"
   ]
  },
  {
   "cell_type": "code",
   "execution_count": 33,
   "metadata": {},
   "outputs": [
    {
     "name": "stdout",
     "output_type": "stream",
     "text": [
      "1 2 3 24\n"
     ]
    }
   ],
   "source": [
    "s4.display()"
   ]
  },
  {
   "cell_type": "code",
   "execution_count": 37,
   "metadata": {},
   "outputs": [
    {
     "name": "stdout",
     "output_type": "stream",
     "text": [
      "67.30000000000001\n"
     ]
    }
   ],
   "source": [
    "s2.percentage()"
   ]
  },
  {
   "cell_type": "code",
   "execution_count": null,
   "metadata": {},
   "outputs": [],
   "source": []
  }
 ],
 "metadata": {
  "kernelspec": {
   "display_name": "Python 3",
   "language": "python",
   "name": "python3"
  },
  "language_info": {
   "codemirror_mode": {
    "name": "ipython",
    "version": 3
   },
   "file_extension": ".py",
   "mimetype": "text/x-python",
   "name": "python",
   "nbconvert_exporter": "python",
   "pygments_lexer": "ipython3",
   "version": "3.7.3"
  }
 },
 "nbformat": 4,
 "nbformat_minor": 2
}
