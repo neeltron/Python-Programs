{
 "cells": [
  {
   "cell_type": "markdown",
   "metadata": {},
   "source": [
    "# Q1. Scan n values in range 0-3 and print the number of times each value has occurred.\n"
   ]
  },
  {
   "cell_type": "code",
   "execution_count": 10,
   "metadata": {},
   "outputs": [
    {
     "name": "stdout",
     "output_type": "stream",
     "text": [
      "Enter a number: 2\n",
      "Enter a number: 3\n",
      "Enter a number: 4\n",
      "Enter a valid number.\n",
      "0: 0\n",
      "1: 0\n",
      "2: 1\n",
      "3: 1\n"
     ]
    }
   ],
   "source": [
    "n = 1\n",
    "count1 = 0\n",
    "count2 = 0\n",
    "count3 = 0\n",
    "count0 = 0\n",
    "while n == True:\n",
    "    j = int(input(\"Enter a number: \"))\n",
    "    if j > 3 or j < 0:\n",
    "            print(\"Enter a valid number.\")\n",
    "            break\n",
    "    else:\n",
    "        if j == 0:\n",
    "            count0 += 1\n",
    "        if j == 1:\n",
    "            count1 += 1\n",
    "        if j == 2:\n",
    "            count2 += 1\n",
    "        if j == 3:\n",
    "            count3 += 1\n",
    "print(\"0:\", count0)\n",
    "print(\"1:\", count1)\n",
    "print(\"2:\", count2)\n",
    "print(\"3:\", count3)"
   ]
  },
  {
   "cell_type": "markdown",
   "metadata": {},
   "source": [
    "# Q2. Take 3 numbers as input and store their tables in a list whose elements are table of the number user has entered."
   ]
  },
  {
   "cell_type": "code",
   "execution_count": 13,
   "metadata": {},
   "outputs": [
    {
     "name": "stdout",
     "output_type": "stream",
     "text": [
      "Enter a number: 2\n",
      "Enter another number: 3\n",
      "Enter yet another number: 1\n",
      "[[2, 4, 6, 8, 10, 12, 14, 16, 18, 20], [3, 6, 9, 12, 15, 18, 21, 24, 27, 30], [1, 2, 3, 4, 5, 6, 7, 8, 9, 10]]\n"
     ]
    }
   ],
   "source": [
    "i = int(input(\"Enter a number: \"))\n",
    "k = int(input(\"Enter another number: \"))\n",
    "l = int(input(\"Enter yet another number: \"))\n",
    "lst1 = []\n",
    "lst21 = []\n",
    "lst22 = []\n",
    "lst23 = []\n",
    "j = 1\n",
    "for j in range(1,11):\n",
    "    lst21.append(i*j)\n",
    "    lst22.append(k*j)\n",
    "    lst23.append(l*j)\n",
    "lst1.append(lst21)\n",
    "lst1.append(lst22)\n",
    "lst1.append(lst23)\n",
    "print(lst1)\n"
   ]
  },
  {
   "cell_type": "markdown",
   "metadata": {},
   "source": [
    "# Q3. Store details of movies in any dictionary you want. each movie Must store details like\n",
    "# name, year, director name, production cost, collection made (earning).\n",
    "# & Perform the following :-\n",
    "# A) print all movie details\n",
    "# B) Display name of movies released before 2015\n",
    "# C) print movies that made a profit.\n",
    "# D) print movies that made a loss.\n",
    "# E) print movies directed by a particular director."
   ]
  },
  {
   "cell_type": "code",
   "execution_count": 19,
   "metadata": {},
   "outputs": [
    {
     "data": {
      "text/plain": [
       "'movie = {\\n    \"name\": \"\"\\n    \"year\": \"\"\\n    \"director\": \\n    \"production\": 0\\n    \"collection\": 0\\n}\\nname = input(\"Enter the name: \")\\nyear = int(input(\"Enter the year of release: \"))\\ndirec = input(\"Enter the Director\\'s name: \")\\n'"
      ]
     },
     "execution_count": 19,
     "metadata": {},
     "output_type": "execute_result"
    }
   ],
   "source": [
    "\"\"\"movie = {\n",
    "    \"name\": \"\"\n",
    "    \"year\": \"\"\n",
    "    \"director\": \n",
    "    \"production\": 0\n",
    "    \"collection\": 0\n",
    "}\n",
    "name = input(\"Enter the name: \")\n",
    "year = int(input(\"Enter the year of release: \"))\n",
    "direc = input(\"Enter the Director's name: \")\n",
    "\"\"\""
   ]
  },
  {
   "cell_type": "markdown",
   "metadata": {},
   "source": [
    "# Store n*n int values and find the sum of diagonal elements."
   ]
  },
  {
   "cell_type": "code",
   "execution_count": 34,
   "metadata": {},
   "outputs": [
    {
     "name": "stdout",
     "output_type": "stream",
     "text": [
      "Enter n: 3\n",
      "Enter a number: 1\n",
      "Enter a number: 1\n",
      "Enter a number: 1\n",
      "Enter a number: 1\n",
      "Enter a number: 1\n",
      "Enter a number: 1\n",
      "Enter a number: 1\n",
      "Enter a number: 1\n",
      "Enter a number: 1\n",
      "3\n"
     ]
    }
   ],
   "source": [
    "i = 0\n",
    "j = 0\n",
    "n = 0\n",
    "k = 0\n",
    "sum = 0\n",
    "lst = []\n",
    "lst1 = []\n",
    "n = int(input(\"Enter n: \"))\n",
    "for i in range(0, n):\n",
    "    lst1 = []\n",
    "    for j in range(0, n):\n",
    "        m = int(input(\"Enter a number: \"))\n",
    "        lst1.append(m)\n",
    "    lst.append(lst1)\n",
    "for k in range(0, n):\n",
    "    sum += lst[k][k]\n",
    "print(sum)"
   ]
  },
  {
   "cell_type": "markdown",
   "metadata": {},
   "source": [
    "# Find the sum of the other diagonal, too."
   ]
  },
  {
   "cell_type": "code",
   "execution_count": 49,
   "metadata": {},
   "outputs": [
    {
     "name": "stdout",
     "output_type": "stream",
     "text": [
      "Enter n: 3\n",
      "Enter a number: 1\n",
      "Enter a number: 1\n",
      "Enter a number: 1\n",
      "Enter a number: 1\n",
      "Enter a number: 1\n",
      "Enter a number: 1\n",
      "Enter a number: 1\n",
      "Enter a number: 1\n",
      "Enter a number: 1\n",
      "3\n",
      "6\n"
     ]
    }
   ],
   "source": [
    "i = 0\n",
    "j = 0\n",
    "n = 0\n",
    "k = 0\n",
    "o = 0\n",
    "sum = 0\n",
    "sum1 = 0\n",
    "lst = []\n",
    "lst1 = []\n",
    "n = int(input(\"Enter n: \"))\n",
    "for i in range(0, n):\n",
    "    lst1 = []\n",
    "    for j in range(0, n):\n",
    "        m = int(input(\"Enter a number: \"))\n",
    "        lst1.append(m)\n",
    "    lst.append(lst1)\n",
    "for k in range(0, n):\n",
    "    sum += lst[k][k]\n",
    "    i=n-1\n",
    "    for i in range(n-1, 0, -1):\n",
    "        sum1 += lst[k][i]\n",
    "print(sum)\n",
    "print(sum1)"
   ]
  },
  {
   "cell_type": "markdown",
   "metadata": {},
   "source": [
    "# Create a tuple of n int values and find the second maximum"
   ]
  },
  {
   "cell_type": "code",
   "execution_count": null,
   "metadata": {},
   "outputs": [],
   "source": []
  },
  {
   "cell_type": "markdown",
   "metadata": {},
   "source": [
    "# Store 5 student details (Roll no.,  name, cgpa, semester) as tuple of table."
   ]
  },
  {
   "cell_type": "code",
   "execution_count": null,
   "metadata": {},
   "outputs": [],
   "source": []
  }
 ],
 "metadata": {
  "kernelspec": {
   "display_name": "Python 3",
   "language": "python",
   "name": "python3"
  },
  "language_info": {
   "codemirror_mode": {
    "name": "ipython",
    "version": 3
   },
   "file_extension": ".py",
   "mimetype": "text/x-python",
   "name": "python",
   "nbconvert_exporter": "python",
   "pygments_lexer": "ipython3",
   "version": "3.7.3"
  }
 },
 "nbformat": 4,
 "nbformat_minor": 2
}
