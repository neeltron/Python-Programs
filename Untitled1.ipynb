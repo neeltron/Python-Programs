{
 "cells": [
  {
   "cell_type": "code",
   "execution_count": 18,
   "metadata": {},
   "outputs": [
    {
     "name": "stdout",
     "output_type": "stream",
     "text": [
      "1 A 65 87 76\n",
      "\n",
      "2 B 43 98 45\n",
      "\n",
      "3 C 34 54 87\n",
      "\n",
      "4 D 34 45 100\n",
      "\n",
      "5 E 23 43 32\n",
      "[['1', 'A', '65', '87', '76'], ['2', 'B', '43', '98', '45'], ['3', 'C', '34', '54', '87'], ['4', 'D', '34', '45', '100'], ['5', 'E', '23', '43', '32']]\n",
      "39.8\n",
      "65.4\n",
      "68.0\n",
      "57.733333333333334\n",
      "E\n"
     ]
    }
   ],
   "source": [
    "f = open(\"file.txt\")\n",
    "lst = []\n",
    "lst1 = []\n",
    "for x in f:\n",
    "    print(x)\n",
    "    lst = x.split()\n",
    "    lst1.append(lst)\n",
    "print(lst1)\n",
    "sum = 0\n",
    "sum1 = 0\n",
    "sum2 = 0\n",
    "for j in range(0,5):\n",
    "    sum += int(lst1[j][2])\n",
    "    sum1 += int(lst1[j][3])\n",
    "    sum2 += int(lst1[j][4])\n",
    "    \n",
    "print(sum/5)\n",
    "print(sum1/5)\n",
    "print(sum2/5)\n",
    "print((sum+sum1+sum2)/15)\n",
    "max = 0\n",
    "total = 0\n",
    "top = \"\"\n",
    "for i in range(0,5):\n",
    "    for j in range(2,5):\n",
    "        total += int(lst1[i][j])\n",
    "    if total > max:\n",
    "        max = total\n",
    "        top = lst1[i][1]\n",
    "print(top)"
   ]
  },
  {
   "cell_type": "code",
   "execution_count": 4,
   "metadata": {},
   "outputs": [],
   "source": []
  },
  {
   "cell_type": "code",
   "execution_count": null,
   "metadata": {},
   "outputs": [],
   "source": []
  }
 ],
 "metadata": {
  "kernelspec": {
   "display_name": "Python 3",
   "language": "python",
   "name": "python3"
  },
  "language_info": {
   "codemirror_mode": {
    "name": "ipython",
    "version": 3
   },
   "file_extension": ".py",
   "mimetype": "text/x-python",
   "name": "python",
   "nbconvert_exporter": "python",
   "pygments_lexer": "ipython3",
   "version": "3.7.3"
  }
 },
 "nbformat": 4,
 "nbformat_minor": 2
}
