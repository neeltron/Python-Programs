{
 "cells": [
  {
   "cell_type": "code",
   "execution_count": 14,
   "metadata": {},
   "outputs": [
    {
     "name": "stdout",
     "output_type": "stream",
     "text": [
      "Enter the number of items: 2\n",
      "Enter a number1\n",
      "Enter a number3\n",
      "Maximum: 3 \n",
      "Minimum: 1\n"
     ]
    }
   ],
   "source": [
    "def maxi(lst):\n",
    "    # lst.sort()\n",
    "    max = 0\n",
    "    for i in lst:\n",
    "        if i > max:\n",
    "            max = i\n",
    "    return(max)\n",
    "\n",
    "\n",
    "def mini(lst):\n",
    "    min = lst[0]\n",
    "    for i in lst:\n",
    "        if i < min:\n",
    "            min = i\n",
    "    return(min)\n",
    "\n",
    "\n",
    "no = int(input(\"Enter the number of items: \"))\n",
    "lst = []\n",
    "for num in range(0, no):\n",
    "    i = int(input(\"Enter a number\"))\n",
    "    lst.append(i)\n",
    "max = maxi(lst)\n",
    "min = mini(lst)\n",
    "print(\"Maximum:\", max, \"\\nMinimum:\", min)"
   ]
  },
  {
   "cell_type": "code",
   "execution_count": 30,
   "metadata": {},
   "outputs": [
    {
     "name": "stdout",
     "output_type": "stream",
     "text": [
      "Enter a number: 3\n",
      "9\n"
     ]
    }
   ],
   "source": [
    "def sum_cube(num):\n",
    "    res = 0\n",
    "    for i in range(0,num):\n",
    "        res = res + i * i * i\n",
    "    return res\n",
    "\n",
    "\n",
    "inp = int(input(\"Enter a number: \"))\n",
    "res = sum_cube(inp)\n",
    "print(res)"
   ]
  },
  {
   "cell_type": "code",
   "execution_count": null,
   "metadata": {},
   "outputs": [],
   "source": [
    "def prod(lst):\n",
    "    for i in range(0, len(lst)+1):\n",
    "        for j in lst:\n",
    "            if lst[i] * lst[j] % 2 == 1 and lst[i] != lst[j]:\n",
    "                print(lst[i], lst[j])\n",
    "\n",
    "\n",
    "inp = int(input(\"Enter the number of items: \"))\n",
    "lst = []\n",
    "for i in range(0, inp):\n",
    "    new = int(input(\"Enter a number: \"))\n",
    "    lst.append(new)\n",
    "res = prod(lst)"
   ]
  },
  {
   "cell_type": "code",
   "execution_count": null,
   "metadata": {},
   "outputs": [],
   "source": []
  },
  {
   "cell_type": "code",
   "execution_count": 14,
   "metadata": {},
   "outputs": [
    {
     "name": "stdout",
     "output_type": "stream",
     "text": [
      "Enter the number of items: 4\n",
      "Enter a number: 1\n",
      "Enter a number: 3\n",
      "Enter a number: 3\n",
      "Enter a number: 9\n",
      "1 3\n",
      "1 3\n",
      "1 9\n",
      "3 1\n",
      "3 9\n",
      "3 1\n",
      "3 9\n",
      "9 1\n",
      "9 3\n",
      "9 3\n",
      "(1, 3, 1, 3, 1, 9, 3, 1, 3, 9, 3, 1, 3, 9, 9, 1, 9, 3, 9, 3)\n"
     ]
    }
   ],
   "source": [
    "def prod(lst):\n",
    "    t = ()\n",
    "    for i in range(0, len(lst)):\n",
    "        for j in range(0, len(lst)):\n",
    "            if lst[i] % 2 == 1 and lst[j] % 2 == 1 and lst[i] != lst[j]:\n",
    "                print(lst[i], lst[j])\n",
    "                t += (lst[i], lst[j])\n",
    "    print(t)\n",
    "\n",
    "\n",
    "inp = int(input(\"Enter the number of items: \"))\n",
    "lst = []\n",
    "for i in range(0, inp):\n",
    "    new = int(input(\"Enter a number: \"))\n",
    "    lst.append(new)\n",
    "res = prod(lst)"
   ]
  },
  {
   "cell_type": "code",
   "execution_count": null,
   "metadata": {},
   "outputs": [],
   "source": []
  }
 ],
 "metadata": {
  "kernelspec": {
   "display_name": "Python 3",
   "language": "python",
   "name": "python3"
  },
  "language_info": {
   "codemirror_mode": {
    "name": "ipython",
    "version": 3
   },
   "file_extension": ".py",
   "mimetype": "text/x-python",
   "name": "python",
   "nbconvert_exporter": "python",
   "pygments_lexer": "ipython3",
   "version": "3.7.3"
  }
 },
 "nbformat": 4,
 "nbformat_minor": 2
}
